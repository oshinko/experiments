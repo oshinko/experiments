{
 "cells": [
  {
   "cell_type": "code",
   "execution_count": 1,
   "id": "2293733d",
   "metadata": {},
   "outputs": [
    {
     "data": {
      "text/plain": [
       "True"
      ]
     },
     "execution_count": 1,
     "metadata": {},
     "output_type": "execute_result"
    }
   ],
   "source": [
    "import dotenv; dotenv.load_dotenv()"
   ]
  },
  {
   "cell_type": "code",
   "execution_count": 9,
   "id": "f3704b31",
   "metadata": {},
   "outputs": [
    {
     "name": "stdout",
     "output_type": "stream",
     "text": [
      "Requirement already satisfied: openai in c:\\users\\maesi\\.venv\\3.10\\lib\\site-packages (0.27.8)\n",
      "Requirement already satisfied: tqdm in c:\\users\\maesi\\.venv\\3.10\\lib\\site-packages (from openai) (4.65.0)\n",
      "Requirement already satisfied: requests>=2.20 in c:\\users\\maesi\\.venv\\3.10\\lib\\site-packages (from openai) (2.28.1)\n",
      "Requirement already satisfied: aiohttp in c:\\users\\maesi\\.venv\\3.10\\lib\\site-packages (from openai) (3.8.3)\n",
      "Requirement already satisfied: charset-normalizer<3,>=2 in c:\\users\\maesi\\.venv\\3.10\\lib\\site-packages (from requests>=2.20->openai) (2.1.1)\n",
      "Requirement already satisfied: urllib3<1.27,>=1.21.1 in c:\\users\\maesi\\.venv\\3.10\\lib\\site-packages (from requests>=2.20->openai) (1.26.7)\n",
      "Requirement already satisfied: idna<4,>=2.5 in c:\\users\\maesi\\.venv\\3.10\\lib\\site-packages (from requests>=2.20->openai) (3.4)\n",
      "Requirement already satisfied: certifi>=2017.4.17 in c:\\users\\maesi\\.venv\\3.10\\lib\\site-packages (from requests>=2.20->openai) (2021.10.8)\n",
      "Requirement already satisfied: aiosignal>=1.1.2 in c:\\users\\maesi\\.venv\\3.10\\lib\\site-packages (from aiohttp->openai) (1.3.1)\n",
      "Requirement already satisfied: async-timeout<5.0,>=4.0.0a3 in c:\\users\\maesi\\.venv\\3.10\\lib\\site-packages (from aiohttp->openai) (4.0.2)\n",
      "Requirement already satisfied: frozenlist>=1.1.1 in c:\\users\\maesi\\.venv\\3.10\\lib\\site-packages (from aiohttp->openai) (1.3.3)\n",
      "Requirement already satisfied: multidict<7.0,>=4.5 in c:\\users\\maesi\\.venv\\3.10\\lib\\site-packages (from aiohttp->openai) (6.0.2)\n",
      "Requirement already satisfied: yarl<2.0,>=1.0 in c:\\users\\maesi\\.venv\\3.10\\lib\\site-packages (from aiohttp->openai) (1.8.1)\n",
      "Requirement already satisfied: attrs>=17.3.0 in c:\\users\\maesi\\.venv\\3.10\\lib\\site-packages (from aiohttp->openai) (21.4.0)\n",
      "Requirement already satisfied: colorama in c:\\users\\maesi\\.venv\\3.10\\lib\\site-packages (from tqdm->openai) (0.4.3)\n"
     ]
    },
    {
     "name": "stderr",
     "output_type": "stream",
     "text": [
      "\n",
      "[notice] A new release of pip available: 22.3.1 -> 23.1.2\n",
      "[notice] To update, run: python.exe -m pip install --upgrade pip\n"
     ]
    }
   ],
   "source": [
    "import sys\n",
    "!{sys.executable} -m pip install openai"
   ]
  },
  {
   "cell_type": "code",
   "execution_count": 10,
   "id": "832e3f81",
   "metadata": {},
   "outputs": [],
   "source": [
    "import datetime\n",
    "\n",
    "class ChatFunction:\n",
    "    # ドキュメントでは optional だが、未指定の場合、このようにしないとエラーになる @ 23/6/16\n",
    "    _no_parameters = {'type': 'object', 'properties': {}}\n",
    "\n",
    "    def __call__(self, description, **_prop_descriptions):\n",
    "        if not isinstance(description, str):\n",
    "            raise ValueError\n",
    "\n",
    "        def decorate(function):\n",
    "            self.__dict__[function.__name__] = (\n",
    "                function,\n",
    "                description,\n",
    "                self._no_parameters  # FIXME typing で抽出すればいい\n",
    "            )\n",
    "\n",
    "        return decorate\n",
    "\n",
    "    @property\n",
    "    def defs(self):\n",
    "        return [\n",
    "            {'name': name, 'description': description, 'parameters': parameters}\n",
    "            for name, (_, description, parameters) in vars(self).items()\n",
    "        ]\n",
    "\n",
    "    def __str__(self):\n",
    "        return '\\n'.join(\n",
    "            f'- {func_name} {func_info}'\n",
    "            for func_name, func_info in vars(chat_function).items()\n",
    "        )\n",
    "\n",
    "chat_function = ChatFunction()\n",
    "\n",
    "@chat_function('現在日時を表示します')\n",
    "def now():\n",
    "    return datetime.datetime.now().isoformat()\n",
    "\n",
    "@chat_function('サーバーをシャットダウンします。')\n",
    "def shutdownn():\n",
    "    print('called `shutdown -h now`  # is dummy')"
   ]
  },
  {
   "cell_type": "code",
   "execution_count": 11,
   "id": "3e8f6e3c",
   "metadata": {},
   "outputs": [
    {
     "name": "stdout",
     "output_type": "stream",
     "text": [
      "- now (<function now at 0x000001FF419415A0>, '現在日時を表示します', {'type': 'object', 'properties': {}})\n",
      "- shutdownn (<function shutdownn at 0x000001FF419413F0>, 'サーバーをシャットダウンします。', {'type': 'object', 'properties': {}})\n"
     ]
    }
   ],
   "source": [
    "print(chat_function)"
   ]
  },
  {
   "cell_type": "code",
   "execution_count": 12,
   "id": "307e8900",
   "metadata": {},
   "outputs": [
    {
     "name": "stdout",
     "output_type": "stream",
     "text": [
      "送信するメッセージ (文脈):\n",
      "[\n",
      "  {\n",
      "    \"role\": \"system\",\n",
      "    \"content\": \"あなたはシステム管理者です。\\nサーバーのログを確認し、最後のログエントリから 1 時間以上経過していれば、システムをシャットダウンして下さい。\"\n",
      "  },\n",
      "  {\n",
      "    \"role\": \"user\",\n",
      "    \"content\": \"最新のログ内容は、次の通り:\\n\\n```log\\n[2023-06-16 10:00] Oshinko joined the system.\\n[2023-06-16 10:20] Oshinko left the system.\\n```\\n\\n現在日時: 2023-06-16T16:12:55.943532\"\n",
      "  }\n",
      "]\n",
      "\n",
      "受信したメッセージ:\n",
      "{\n",
      "  \"id\": \"chatcmpl-7RxvcUxlKGNuGg8QzmuC64SeFdHTi\",\n",
      "  \"object\": \"chat.completion\",\n",
      "  \"created\": 1686899576,\n",
      "  \"model\": \"gpt-4-0613\",\n",
      "  \"choices\": [\n",
      "    {\n",
      "      \"index\": 0,\n",
      "      \"message\": {\n",
      "        \"role\": \"assistant\",\n",
      "        \"content\": null,\n",
      "        \"function_call\": {\n",
      "          \"name\": \"shutdownn\",\n",
      "          \"arguments\": \"{}\"\n",
      "        }\n",
      "      },\n",
      "      \"finish_reason\": \"function_call\"\n",
      "    }\n",
      "  ],\n",
      "  \"usage\": {\n",
      "    \"prompt_tokens\": 206,\n",
      "    \"completion_tokens\": 7,\n",
      "    \"total_tokens\": 213\n",
      "  }\n",
      "}\n"
     ]
    }
   ],
   "source": [
    "import json\n",
    "\n",
    "import openai\n",
    "\n",
    "model = 'gpt-4-0613' or 'gpt-3.5-turbo-0613' or 'gpt-4-0613'\n",
    "\n",
    "messages = [\n",
    "    {\n",
    "        'role': 'system',\n",
    "        'content': \"\"\"\n",
    "あなたはシステム管理者です。\n",
    "サーバーのログを確認し、最後のログエントリから 1 時間以上経過していれば、システムをシャットダウンして下さい。\n",
    "\"\"\".strip()\n",
    "    },\n",
    "\n",
    "    {\n",
    "        'role': 'user',\n",
    "        'content': f\"\"\"\n",
    "最新のログ内容は、次の通り:\n",
    "\n",
    "```log\n",
    "[2023-06-16 10:00] Oshinko joined the system.\n",
    "[2023-06-16 10:20] Oshinko left the system.\n",
    "```\n",
    "\n",
    "現在日時: {datetime.datetime.now().isoformat()}\n",
    "\"\"\".strip()\n",
    "    }\n",
    "]\n",
    "\n",
    "print('送信するメッセージ (文脈):')\n",
    "print(json.dumps(messages, indent=2, ensure_ascii=False), end='\\n' * 2)\n",
    "\n",
    "resp = openai.ChatCompletion.create(\n",
    "    model=model,\n",
    "    messages=messages,\n",
    "    functions=chat_function.defs\n",
    ")\n",
    "\n",
    "print('受信したメッセージ:')\n",
    "print(json.dumps(resp, indent=2, ensure_ascii=False))\n",
    "\n",
    "assistant_message = resp['choices'][0]['message']\n",
    "messages.append(assistant_message)"
   ]
  },
  {
   "cell_type": "code",
   "execution_count": 13,
   "id": "de8d1f5e",
   "metadata": {},
   "outputs": [
    {
     "name": "stdout",
     "output_type": "stream",
     "text": [
      "called `shutdown -h now`  # is dummy\n",
      "{\n",
      "  \"id\": \"chatcmpl-7RxvddUdKa9TuBR08PDmBx9EDuxME\",\n",
      "  \"object\": \"chat.completion\",\n",
      "  \"created\": 1686899577,\n",
      "  \"model\": \"gpt-4-0613\",\n",
      "  \"choices\": [\n",
      "    {\n",
      "      \"index\": 0,\n",
      "      \"message\": {\n",
      "        \"role\": \"assistant\",\n",
      "        \"content\": \"システムをシャットダウンしました。\"\n",
      "      },\n",
      "      \"finish_reason\": \"stop\"\n",
      "    }\n",
      "  ],\n",
      "  \"usage\": {\n",
      "    \"prompt_tokens\": 222,\n",
      "    \"completion_tokens\": 15,\n",
      "    \"total_tokens\": 237\n",
      "  }\n",
      "}\n"
     ]
    }
   ],
   "source": [
    "messages_ = messages.copy()\n",
    "\n",
    "if 'function_call' in assistant_message:\n",
    "    function_call = assistant_message['function_call']\n",
    "\n",
    "    messages_.append({\n",
    "        'role': 'function',\n",
    "        'name': function_call['name'],\n",
    "        'content': json.dumps(getattr(chat_function, function_call['name'])[0]())\n",
    "    })\n",
    "\n",
    "    resp = openai.ChatCompletion.create(\n",
    "        model=model,\n",
    "        messages=messages_,\n",
    "        functions=chat_function.defs\n",
    "    )\n",
    "\n",
    "    print(json.dumps(resp, indent=2, ensure_ascii=False))"
   ]
  },
  {
   "cell_type": "code",
   "execution_count": null,
   "id": "3ecbbc4f",
   "metadata": {},
   "outputs": [],
   "source": []
  }
 ],
 "metadata": {
  "kernelspec": {
   "display_name": "Python 3 (ipykernel)",
   "language": "python",
   "name": "python3"
  },
  "language_info": {
   "codemirror_mode": {
    "name": "ipython",
    "version": 3
   },
   "file_extension": ".py",
   "mimetype": "text/x-python",
   "name": "python",
   "nbconvert_exporter": "python",
   "pygments_lexer": "ipython3",
   "version": "3.10.9"
  }
 },
 "nbformat": 4,
 "nbformat_minor": 5
}
